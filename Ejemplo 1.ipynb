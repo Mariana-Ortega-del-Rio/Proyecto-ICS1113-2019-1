{
 "cells": [
  {
   "cell_type": "markdown",
   "metadata": {},
   "source": [
    "# Ejemplo 1\n",
    "Debes decidir sobre si ir o no a 3 actividades buscando tu mayor felicidad.\n",
    "Debes elegir al menos una actividad entre la actividad 1 y 2.\n",
    "El tiempo máximo del que dispones es de 4 horas.\n",
    "La actividad 3 te otorga el doble de felicidad que las otras actividades.\n",
    "La actividad 1 y 2 toman 1 hora cada una y la actividad 3 toma 3 horas.\n"
   ]
  },
  {
   "cell_type": "markdown",
   "metadata": {},
   "source": [
    "$$ Max (x+y+2z) $$"
   ]
  },
  {
   "cell_type": "markdown",
   "metadata": {},
   "source": [
    "$$ x+y+3z \\leq 4 $$"
   ]
  },
  {
   "cell_type": "markdown",
   "metadata": {},
   "source": [
    "$$ x+y \\geq 1 $$"
   ]
  },
  {
   "cell_type": "markdown",
   "metadata": {},
   "source": [
    "$$ x,y,z \\in {0,1}$$"
   ]
  },
  {
   "cell_type": "code",
   "execution_count": 1,
   "metadata": {
    "scrolled": true
   },
   "outputs": [
    {
     "name": "stdout",
     "output_type": "stream",
     "text": [
      "Optimize a model with 2 rows, 3 columns and 5 nonzeros\n",
      "Variable types: 0 continuous, 3 integer (3 binary)\n",
      "Coefficient statistics:\n",
      "  Matrix range     [1e+00, 3e+00]\n",
      "  Objective range  [1e+00, 2e+00]\n",
      "  Bounds range     [1e+00, 1e+00]\n",
      "  RHS range        [1e+00, 4e+00]\n",
      "Found heuristic solution: objective 2.0000000\n",
      "Presolve removed 2 rows and 3 columns\n",
      "Presolve time: 0.09s\n",
      "Presolve: All rows and columns removed\n",
      "\n",
      "Explored 0 nodes (0 simplex iterations) in 0.18 seconds\n",
      "Thread count was 1 (of 4 available processors)\n",
      "\n",
      "Solution count 2: 3 2 \n",
      "\n",
      "Optimal solution found (tolerance 1.00e-04)\n",
      "Best objective 3.000000000000e+00, best bound 3.000000000000e+00, gap 0.0000%\n",
      "\n",
      "    Variable            X \n",
      "-------------------------\n",
      "           x            1 \n",
      "           z            1 \n"
     ]
    }
   ],
   "source": [
    "from gurobipy import Model, GRB\n",
    "\n",
    "#Crea un modelo vacío\n",
    "m = Model()\n",
    "#Agrega las variables\n",
    "x = m.addVar(vtype=GRB.BINARY, name=\"x\")\n",
    "y = m.addVar(vtype=GRB.BINARY, name =\"y\")\n",
    "z = m.addVar(vtype=GRB.BINARY, name=\"z\")\n",
    "\n",
    "#proceso de actualizaciones pendiente\n",
    "m.update()\n",
    "\n",
    "#Establecer función objetivo\n",
    "\n",
    "m.setObjective(x + y + 2*z, GRB.MAXIMIZE)\n",
    "\n",
    "#Agregar restricciones\n",
    "c1 = m.addConstr(x + 2*y + 3*z <= 4)\n",
    "c2 = m.addConstr(x + y >= 1)\n",
    "\n",
    "#Resolver el modelo\n",
    "m.optimize()\n",
    "m.printAttr(\"X\")\n",
    "\n",
    "#Imprimir los valores de las variables para la solución óptima\n",
    "\n"
   ]
  },
  {
   "cell_type": "markdown",
   "metadata": {},
   "source": [
    "# Setear parámetros\n",
    "- setear método (-1=automatic, 0=primal simplex, 1=dual simplex, 2=barrier, 3=concurrent, 4=deterministic concurrent, 5=deterministic concurrent simplex)\n",
    "- setear MIPFocus\n",
    " - m.setParam(\"MIPFocus\", 1): Enfoque en encontrar buenas soluciones\n",
    " - m.setParam(\"MIPFocus\", 2): Enfoque en probar optimalidad\n",
    " - m.setParam(\"MIPFocus\", 3): Enfoque en mejorar el lower bound\n",
    "- setear Gap\n",
    "    - m.setParam(\"MIPGap\", 0.1): Parar si gap es bajo el 10%\n",
    "    - m.setParam(\"Cutoff\", maxval): No explorar nodos cuyo valor LP está encima de maxval\n",
    "    - m.setParam(\"BestObjStop\", targetval): Parar cuando encuentres una solución con valor bajo targetval\n",
    "- limitar el trabajo al resolver un MIP\n",
    "    - m.setParam(\"SolutionLimit\", 5): Parar después de encontrar 5 soluciones. (más grande el número mejor calidad, pero toma más tiempo)\n",
    "    - m.setParam(\"NodeLimit\", 500): Parar después de explorar 500 nodos en Branch & Bound\n",
    "    - m.setParam(\"IterationLimit\", 1000000): Parar después de 1000000 iteraciones de simplex\n",
    "    - m.setParam(\"TimeLimit\", 3600): Parar después de una hora de tiempo corriendo"
   ]
  },
  {
   "cell_type": "code",
   "execution_count": 2,
   "metadata": {
    "scrolled": true
   },
   "outputs": [
    {
     "name": "stdout",
     "output_type": "stream",
     "text": [
      "Changed value of parameter MIPFocus to 2\n",
      "   Prev: 0  Min: 0  Max: 3  Default: 0\n",
      "Changed value of parameter MIPGap to 0.1\n",
      "   Prev: 0.0001  Min: 0.0  Max: 1e+100  Default: 0.0001\n",
      "Optimize a model with 2 rows, 3 columns and 5 nonzeros\n",
      "Variable types: 0 continuous, 3 integer (3 binary)\n",
      "Coefficient statistics:\n",
      "  Matrix range     [1e+00, 3e+00]\n",
      "  Objective range  [1e+00, 2e+00]\n",
      "  Bounds range     [1e+00, 1e+00]\n",
      "  RHS range        [1e+00, 4e+00]\n",
      "Found heuristic solution: objective 2.0000000\n",
      "Presolve removed 2 rows and 3 columns\n",
      "Presolve time: 0.00s\n",
      "Presolve: All rows and columns removed\n",
      "\n",
      "Explored 0 nodes (0 simplex iterations) in 0.03 seconds\n",
      "Thread count was 1 (of 4 available processors)\n",
      "\n",
      "Solution count 2: 3 2 \n",
      "\n",
      "Optimal solution found (tolerance 1.00e-01)\n",
      "Best objective 3.000000000000e+00, best bound 3.000000000000e+00, gap 0.0000%\n",
      "\n",
      "    Variable            X \n",
      "-------------------------\n",
      "           x            1 \n",
      "           z            1 \n",
      "\n",
      "Solution quality statistics for model Unnamed :\n",
      "  Maximum violation:\n",
      "    Bound       : 0.00000000e+00\n",
      "    Constraint  : 0.00000000e+00\n",
      "    Integrality : 0.00000000e+00\n"
     ]
    }
   ],
   "source": [
    "from gurobipy import Model, GRB\n",
    "\n",
    "#Crea un modelo vacío\n",
    "m = Model()\n",
    "m.setParam(\"MIPFocus\", 2)\n",
    "m.setParam(\"MIPGap\", 0.1)\n",
    "#Agrega las variables\n",
    "x = m.addVar(vtype=GRB.BINARY, name=\"x\")\n",
    "y = m.addVar(vtype=GRB.BINARY, name =\"y\")\n",
    "z = m.addVar(vtype=GRB.BINARY, name=\"z\")\n",
    "\n",
    "#proceso de actualizaciones pendiente\n",
    "m.update()\n",
    "\n",
    "#Establecer función objetivo\n",
    "m.setObjective(x + y + 2*z, GRB.MAXIMIZE)\n",
    "\n",
    "#Agregar restricciones\n",
    "c1 = m.addConstr(x + 2*y + 3*z <= 4)\n",
    "c2 = m.addConstr(x + y >= 1)\n",
    "\n",
    "#Resolver el modelo\n",
    "m.optimize()\n",
    "m.write(\"mari.sol\")\n",
    "m.printAttr(\"X\")\n",
    "m.printQuality()\n",
    "\n"
   ]
  },
  {
   "cell_type": "markdown",
   "metadata": {},
   "source": [
    "# Imprimir información y guardar soluciones\n",
    "- guardar soluciones: m.write(\"nombre.sol\")"
   ]
  },
  {
   "cell_type": "code",
   "execution_count": 3,
   "metadata": {
    "scrolled": true
   },
   "outputs": [
    {
     "name": "stdout",
     "output_type": "stream",
     "text": [
      "Optimize a model with 2 rows, 3 columns and 5 nonzeros\n",
      "Variable types: 0 continuous, 3 integer (3 binary)\n",
      "Coefficient statistics:\n",
      "  Matrix range     [1e+00, 3e+00]\n",
      "  Objective range  [1e+00, 2e+00]\n",
      "  Bounds range     [1e+00, 1e+00]\n",
      "  RHS range        [1e+00, 4e+00]\n",
      "Found heuristic solution: objective 2.0000000\n",
      "Presolve removed 2 rows and 3 columns\n",
      "Presolve time: 0.00s\n",
      "Presolve: All rows and columns removed\n",
      "\n",
      "Explored 0 nodes (0 simplex iterations) in 0.04 seconds\n",
      "Thread count was 1 (of 4 available processors)\n",
      "\n",
      "Solution count 2: 3 2 \n",
      "\n",
      "Optimal solution found (tolerance 1.00e-04)\n",
      "Best objective 3.000000000000e+00, best bound 3.000000000000e+00, gap 0.0000%\n",
      "\n",
      "    Variable            X \n",
      "-------------------------\n",
      "           x            1 \n",
      "           z            1 \n",
      "\n",
      "\n",
      "Solution quality statistics for model Unnamed :\n",
      "  Maximum violation:\n",
      "    Bound       : 0.00000000e+00\n",
      "    Constraint  : 0.00000000e+00\n",
      "    Integrality : 0.00000000e+00\n",
      "Obj: 3\n",
      "x 1\n",
      "y 0\n",
      "z 1\n"
     ]
    }
   ],
   "source": [
    "from gurobipy import Model, GRB\n",
    "\n",
    "#Crea un modelo vacío\n",
    "m = Model()\n",
    "#Agrega las variables\n",
    "x = m.addVar(vtype=GRB.BINARY, name=\"x\")\n",
    "y = m.addVar(vtype=GRB.BINARY, name =\"y\")\n",
    "z = m.addVar(vtype=GRB.BINARY, name=\"z\")\n",
    "\n",
    "#proceso de actualizaciones pendiente\n",
    "m.update()\n",
    "\n",
    "#Establecer función objetivo\n",
    "m.setObjective(x + y + 2*z, GRB.MAXIMIZE)\n",
    "\n",
    "#Agregar restricciones\n",
    "c1 = m.addConstr(x + 2*y + 3*z <= 4)\n",
    "c2 = m.addConstr(x + y >= 1)\n",
    "\n",
    "#Resolver el modelo\n",
    "m.optimize()\n",
    "m.printAttr(\"X\")\n",
    "#Imprimir los valores de las variables para la solución óptima\n",
    "print()\n",
    "m.printQuality()\n",
    "print('Obj: %g' % m.objVal)\n",
    "for v in m.getVars():\n",
    "        print('%s %g' % (v.varName, v.x))\n",
    "m.write(\"mari.sol\")\n"
   ]
  }
 ],
 "metadata": {
  "kernelspec": {
   "display_name": "Python 3",
   "language": "python",
   "name": "python3"
  },
  "language_info": {
   "codemirror_mode": {
    "name": "ipython",
    "version": 3
   },
   "file_extension": ".py",
   "mimetype": "text/x-python",
   "name": "python",
   "nbconvert_exporter": "python",
   "pygments_lexer": "ipython3",
   "version": "3.6.5"
  }
 },
 "nbformat": 4,
 "nbformat_minor": 2
}
