{
 "cells": [
  {
   "cell_type": "markdown",
   "metadata": {},
   "source": [
    "# Guía 2 Python Gurobi"
   ]
  },
  {
   "cell_type": "markdown",
   "metadata": {},
   "source": [
    "Autor: Mariana Ortega mvortega2@uc.cl "
   ]
  },
  {
   "cell_type": "markdown",
   "metadata": {},
   "source": [
    "# Esenciales de Python Gurobi"
   ]
  },
  {
   "cell_type": "markdown",
   "metadata": {},
   "source": [
    "### Objetos principales\n",
    "- Model: el modelo \n",
    "- Var: una variable\n",
    "- Constr: una restricción\n",
    "\n",
    "### Pasos para generar un modelo\n",
    "Por razones de rendimiento se recomienda seguir la siguiente estructura al construir una instancia de un modelo con la interfaz Gurobi Python.\n",
    "1. Crear objetos Var\n",
    "2. Integrar variables \n",
    "3. Crear función objetivo\n",
    "4. Crear restricciones\n",
    "5. Optimizar\n",
    "\n",
    "### Ejemplo 1\n",
    "Comenzemos con un ejemplo sencillo para familiarizarnos con los conceptos. El problema es el siguiente:\n",
    "\n",
    "Debes decidir sobre si ir o no a 3 actividades buscando tu mayor felicidad. Sabes que la actividad 3 te otorga el doble de felicidad que las otras actividades. La actividad 1 y 2 toman 1 hora cada una y la actividad 3 toma 3 horas. Además, debes elegir al menos una actividad entre la actividad 1 y 2 y el tiempo máximo del que dispones es de 4 horas.\n",
    "\n",
    "\n"
   ]
  },
  {
   "cell_type": "markdown",
   "metadata": {},
   "source": [
    "Formulemos este problema matématicamente.\n",
    "\n",
    "$$Max (x+y+2z)$$"
   ]
  },
  {
   "cell_type": "markdown",
   "metadata": {},
   "source": [
    "$$x+y+3z <= 4$$"
   ]
  },
  {
   "cell_type": "markdown",
   "metadata": {},
   "source": [
    "$$x+y >= 1$$"
   ]
  },
  {
   "cell_type": "markdown",
   "metadata": {},
   "source": [
    "$$x,y,z \\in \\{0,1\\}$$"
   ]
  },
  {
   "cell_type": "markdown",
   "metadata": {},
   "source": [
    "Primero, debemos importar las librerías que ocuparemos (que deben estar descargadas previamente en nuestro computador). "
   ]
  },
  {
   "cell_type": "code",
   "execution_count": 46,
   "metadata": {},
   "outputs": [],
   "source": [
    "from gurobipy import Model, GRB"
   ]
  },
  {
   "cell_type": "markdown",
   "metadata": {},
   "source": [
    "Luego, se crea un modelo vacío"
   ]
  },
  {
   "cell_type": "code",
   "execution_count": 47,
   "metadata": {},
   "outputs": [],
   "source": [
    "m = Model()"
   ]
  },
  {
   "cell_type": "markdown",
   "metadata": {},
   "source": [
    "Agrega las variables ocupando el método addVar() o addVars() del objeto Model. Entre los paréntesis le entregarás valores a los argumentos de los objetos de tipo var. Por ejemplo, el tipo de variable se define con vtype y puede ser de tipo continuo (GRB.CONTINUOUS), entero (GRB.INTEGER) o binario (GRB.BINARY). También le puedes asignar un nombre a la variable con name, un límite inferior (lb) o superior (ub), entre otros argumentos que irás descubriendo. "
   ]
  },
  {
   "cell_type": "code",
   "execution_count": 48,
   "metadata": {},
   "outputs": [],
   "source": [
    "x = m.addVar(vtype=GRB.BINARY, name=\"x\")\n",
    "y = m.addVar(vtype=GRB.BINARY, name =\"y\")\n",
    "z = m.addVar(vtype=GRB.BINARY, name=\"z\")"
   ]
  },
  {
   "cell_type": "markdown",
   "metadata": {},
   "source": [
    "En gurobi se debe ocupar el método update() para procesar las actualizaciones pendientes. En este caso se deben integran las variables al modelo."
   ]
  },
  {
   "cell_type": "code",
   "execution_count": 49,
   "metadata": {},
   "outputs": [],
   "source": [
    "m.update()"
   ]
  },
  {
   "cell_type": "markdown",
   "metadata": {},
   "source": [
    "En el siguiente paso se debe establecer la función objetivo con el método setObjective. Los argumentos que recibe son la función objetivo y si se busca maximizar (GRB.MAXIMIZE) o minimizar (GRB.MINIMIZE). "
   ]
  },
  {
   "cell_type": "code",
   "execution_count": 50,
   "metadata": {},
   "outputs": [],
   "source": [
    "m.setObjective(x + y + 2*z, GRB.MAXIMIZE)"
   ]
  },
  {
   "cell_type": "markdown",
   "metadata": {},
   "source": [
    "Procedemos a agregar las restricciones con el método addConstr() o addConstrs(). "
   ]
  },
  {
   "cell_type": "code",
   "execution_count": 51,
   "metadata": {},
   "outputs": [],
   "source": [
    "c1 = m.addConstr(x + 2*y + 3*z <= 4)\n",
    "c2 = m.addConstr(x + y >= 1)"
   ]
  },
  {
   "cell_type": "markdown",
   "metadata": {},
   "source": [
    "Finalmente, le indicamos al programa que queremos que resuelva el problema y nos entregue la solución óptima con optimize(). "
   ]
  },
  {
   "cell_type": "code",
   "execution_count": 52,
   "metadata": {},
   "outputs": [
    {
     "name": "stdout",
     "output_type": "stream",
     "text": [
      "Optimize a model with 2 rows, 3 columns and 5 nonzeros\n",
      "Variable types: 0 continuous, 3 integer (3 binary)\n",
      "Coefficient statistics:\n",
      "  Matrix range     [1e+00, 3e+00]\n",
      "  Objective range  [1e+00, 2e+00]\n",
      "  Bounds range     [1e+00, 1e+00]\n",
      "  RHS range        [1e+00, 4e+00]\n",
      "Found heuristic solution: objective 2.0000000\n",
      "Presolve removed 2 rows and 3 columns\n",
      "Presolve time: 0.00s\n",
      "Presolve: All rows and columns removed\n",
      "\n",
      "Explored 0 nodes (0 simplex iterations) in 0.03 seconds\n",
      "Thread count was 1 (of 4 available processors)\n",
      "\n",
      "Solution count 2: 3 2 \n",
      "\n",
      "Optimal solution found (tolerance 1.00e-04)\n",
      "Best objective 3.000000000000e+00, best bound 3.000000000000e+00, gap 0.0000%\n"
     ]
    }
   ],
   "source": [
    "m.optimize()"
   ]
  },
  {
   "cell_type": "markdown",
   "metadata": {},
   "source": [
    "Podemos usar algunos métodos de resumen de información como:\n",
    "- Model.printtAttr(): Muestra los valores de los atributos distintos a cero\n",
    "- Model.printStats() que muestra tamaños, estadísticas de los coeficientes, entre otros\n",
    "- Model.printQuality() que muestra información de la calidad de la solución."
   ]
  },
  {
   "cell_type": "code",
   "execution_count": 53,
   "metadata": {},
   "outputs": [
    {
     "name": "stdout",
     "output_type": "stream",
     "text": [
      "\n",
      "    Variable            X \n",
      "-------------------------\n",
      "           x            1 \n",
      "           z            1 \n"
     ]
    }
   ],
   "source": [
    "#Imprimir los valores de las variables para la solución óptima\n",
    "m.printAttr(\"X\")"
   ]
  },
  {
   "cell_type": "markdown",
   "metadata": {},
   "source": [
    "Como habrás notado no se imprimió la variable $y$. Esto es porque el método printAttr() solo entrega los valores de las variables distintas a 0.\n",
    "\n",
    "También, existen algunos métodos introspectivos del modelo como:\n",
    "- Model.getVars(): entrega variables en una lista de objetos Var\n",
    "- Model.getConstrs(): entrega las restricciones como una lista de objetos Constr\n",
    "- Model.getRow(): entrega el lado izquierdo de una expresión para una restricción dada\n",
    "- Model.getCol(): entrega una lista de restricciones para una variable dada\n"
   ]
  },
  {
   "cell_type": "code",
   "execution_count": 54,
   "metadata": {},
   "outputs": [
    {
     "data": {
      "text/plain": [
       "[<gurobi.Var x (value 1.0)>,\n",
       " <gurobi.Var y (value 0.0)>,\n",
       " <gurobi.Var z (value 1.0)>]"
      ]
     },
     "execution_count": 54,
     "metadata": {},
     "output_type": "execute_result"
    }
   ],
   "source": [
    "m.getVars()"
   ]
  },
  {
   "cell_type": "markdown",
   "metadata": {},
   "source": [
    "Como puedes ver aquí sí se listan todas las variables, incluso las que tienen valor 0. "
   ]
  },
  {
   "cell_type": "markdown",
   "metadata": {},
   "source": [
    "Por supuesto que también se pueden guardar soluciones y leer archivos de modelos con los métodos write() y read(). Por ejemplo al hacer m.write(\"ejemplo1.sol\") se guardará un archivo de tipo .sol en nuestro computador."
   ]
  },
  {
   "cell_type": "code",
   "execution_count": 55,
   "metadata": {},
   "outputs": [],
   "source": [
    "m.write(\"ejemplo1.sol\")"
   ]
  },
  {
   "cell_type": "markdown",
   "metadata": {},
   "source": [
    "# Análisis de la solución\n",
    "Analizemos ahora el output que se entrega al optimizar el problema."
   ]
  },
  {
   "cell_type": "code",
   "execution_count": 56,
   "metadata": {},
   "outputs": [
    {
     "name": "stdout",
     "output_type": "stream",
     "text": [
      "Optimize a model with 2 rows, 3 columns and 5 nonzeros\n",
      "Variable types: 0 continuous, 3 integer (3 binary)\n",
      "Coefficient statistics:\n",
      "  Matrix range     [1e+00, 3e+00]\n",
      "  Objective range  [1e+00, 2e+00]\n",
      "  Bounds range     [1e+00, 1e+00]\n",
      "  RHS range        [1e+00, 4e+00]\n",
      "\n",
      "Loaded MIP start with objective 3\n",
      "\n",
      "Presolve removed 2 rows and 3 columns\n",
      "Presolve time: 0.00s\n",
      "Presolve: All rows and columns removed\n",
      "\n",
      "Explored 0 nodes (0 simplex iterations) in 0.04 seconds\n",
      "Thread count was 1 (of 4 available processors)\n",
      "\n",
      "Solution count 3: 3 3 2 \n",
      "\n",
      "Optimal solution found (tolerance 1.00e-04)\n",
      "Best objective 3.000000000000e+00, best bound 3.000000000000e+00, gap 0.0000%\n"
     ]
    }
   ],
   "source": [
    "m.optimize()"
   ]
  },
  {
   "cell_type": "markdown",
   "metadata": {},
   "source": [
    "### Gap\n",
    "\n",
    "Recordemos que el incumbente es la mejor solución entera encontrada hasta ese momento de la búsqueda. Primero observemos que, una vez que tenemos un incumbente, el valor objetivo para este incumbente (asumiendo un problema de minimización) es un límite superior válido para la solución óptima de dicho MIP. Esto significa que en el peor de los casos nuestra solución será el incumbente, pero no será mayor a este. Este será nuestro $\\textit{upper bound}$. \n",
    "\n",
    "A partir de esto se puede definir el $\\textit{best bound}$. El best bound o límite inferior se obtiene al tomar el mínimo de los valores óptimos de todos los nodos hojas actuales. Se consideran todos los nodos hojas, estén o no podados. \n",
    "\n",
    "Finalmente, el $\\textit{gap}$ es la diferencia entre el límite superior e inferior actual. Cuando el gap es 0 se demuestra optimalidad. \n",
    "\n",
    "En el ejemplo podemos ver que el best objective era de 3.0 al igual que el best bound y se logra probar optimalidad con un gap 0. \n",
    "También, el output nos indica que se ocupó la estrategia de presolve, los nodos que se exploraron en el b&b, los threads o hilos, entre otros. Podemos concluir que no se usó paralelismo porque se ocupa solo 1 thread, ya que el modelo era muy simple. Ya veremos en modelos más complejos otras estrategias como múltiples threads(paralelismo), planos cortantes, etc. "
   ]
  },
  {
   "cell_type": "markdown",
   "metadata": {},
   "source": [
    "# Setear parámetros\n",
    "Si bien el modelo anterior nos corrió muy rápido y alcanzó optimalidad (gap 0) esto no es común. Modelos más complejos podrían nunca parar de correr si no se les coloca un límite. \n",
    "\n",
    "Los parámetros controlan la operación de los solver Gurobi y deben ser modificados antes de iniciar la optimización. Los siguientes solo son unos pocos de los parámetros que se pueden setear, pero te recomiendo solo empezar a modificarlos si te das cuenta que hay un problema en la resolución del problema como que no se está convergiendo, el bound se mueve muy lento, el progreso se estanca, etc., porque los parámetros están seteados por Gurobi para el gran promedio de los casos y suelen ser efectivos. \n",
    "\n",
    "Puede que setear el Gap sea uno de tus grandes amigos al resolver problemas complejos. El valor por defecto del gap para un MIP es de 1e-4. Esto significa que cuando el MIPGap sea $\\textit{menor}$ a este valor el programa terminará de correr. Por tanto, ajustar este gap a un valor aceptable puede ayudarte a encontrar soluciones factibles suficientemente buenas. También puedes setear el enfoque de resolución y trabajo al resolver un MIP como se muestra abajo.\n",
    "- setear Gap\n",
    "    - m.setParam(\"MIPGap\", 0.1): Parar si gap es bajo el 10%\n",
    "    - m.setParam(\"Cutoff\", maxval): No explorar nodos cuyo valor LP está encima de maxval\n",
    "    - m.setParam(\"BestObjStop\", targetval): Parar cuando encuentres una solución con valor bajo targetval\n",
    "- setear MIPFocus\n",
    "     - m.setParam(\"MIPFocus\", 1): Enfoque en encontrar buenas soluciones\n",
    "     - m.setParam(\"MIPFocus\", 2): Enfoque en probar optimalidad\n",
    "     - m.setParam(\"MIPFocus\", 3): Enfoque en mejorar el lower bound\n",
    "- limitar el trabajo al resolver un MIP\n",
    "    - m.setParam(\"SolutionLimit\", 5): Parar después de encontrar 5 soluciones. (más grande el número mejor calidad, pero toma más tiempo)\n",
    "    - m.setParam(\"NodeLimit\", 500): Parar después de explorar 500 nodos en Branch & Bound\n",
    "    - m.setParam(\"IterationLimit\", 1000000): Parar después de 1000000 iteraciones de simplex\n",
    "    - m.setParam(\"TimeLimit\", 3600): Parar después de una hora de tiempo corriendo"
   ]
  }
 ],
 "metadata": {
  "kernelspec": {
   "display_name": "Python 3",
   "language": "python",
   "name": "python3"
  },
  "language_info": {
   "codemirror_mode": {
    "name": "ipython",
    "version": 3
   },
   "file_extension": ".py",
   "mimetype": "text/x-python",
   "name": "python",
   "nbconvert_exporter": "python",
   "pygments_lexer": "ipython3",
   "version": "3.7.1"
  }
 },
 "nbformat": 4,
 "nbformat_minor": 2
}
